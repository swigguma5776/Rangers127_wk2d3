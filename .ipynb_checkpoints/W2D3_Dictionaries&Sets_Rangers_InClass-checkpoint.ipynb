{
 "cells": [
  {
   "cell_type": "markdown",
   "metadata": {},
   "source": [
    "# Dictionaries & Sets"
   ]
  },
  {
   "cell_type": "markdown",
   "metadata": {},
   "source": [
    "## Tasks Today:\n",
    "\n",
    "1) Dictionary <br>\n",
    " &nbsp;&nbsp;&nbsp;&nbsp; a) Declaring (key, value) <br>\n",
    " &nbsp;&nbsp;&nbsp;&nbsp; b) Accessing Values <br>\n",
    " &nbsp;&nbsp;&nbsp;&nbsp; ------ Exercise #1 - Print the eye color of each person in a double nested dict <br>\n",
    " &nbsp;&nbsp;&nbsp;&nbsp; c) Adding New Pairs <br>\n",
    " &nbsp;&nbsp;&nbsp;&nbsp; d) Modifying Values <br>\n",
    " &nbsp;&nbsp;&nbsp;&nbsp; e) Removing Key, Value Pairs <br>\n",
    " &nbsp;&nbsp;&nbsp;&nbsp; f) Looping a Dictionary <br>\n",
    " &nbsp;&nbsp;&nbsp;&nbsp; g) Looping Only Keys <br>\n",
    " &nbsp;&nbsp;&nbsp;&nbsp; h) Looping Only Values <br>\n",
    " &nbsp;&nbsp;&nbsp;&nbsp; ------ Exercise #2 - Create a Function that Prints All Key Value Pairs within a print .format()  <br>\n",
    " &nbsp;&nbsp;&nbsp;&nbsp; i) sorted() <br>\n",
    " &nbsp;&nbsp;&nbsp;&nbsp; j) Lists with Dictionaries <br>\n",
    " &nbsp;&nbsp;&nbsp;&nbsp; k) Dictionaries with Lists <br>\n",
    " &nbsp;&nbsp;&nbsp;&nbsp; l) Dictionaries with Dictionaries <br>\n",
    " &nbsp;&nbsp;&nbsp;&nbsp; ------ Exercise #3 - Write a Function that asks someone's name and address, and then stores that into a dictionary, which prints all names and addresses after they're done putting information in...  <br>\n",
    "2) Dictionaries vs. Lists (over time)<br>\n",
    "3) Set <br>\n",
    " &nbsp;&nbsp;&nbsp;&nbsp; a) Declaring <br>\n",
    " &nbsp;&nbsp;&nbsp;&nbsp; b) .add() <br>\n",
    " &nbsp;&nbsp;&nbsp;&nbsp; c) .remove() <br>\n",
    " &nbsp;&nbsp;&nbsp;&nbsp; d) .union() <br>\n",
    " &nbsp;&nbsp;&nbsp;&nbsp; e) .intersection() <br>\n",
    " &nbsp;&nbsp;&nbsp;&nbsp; f) .difference() <br>\n",
    " &nbsp;&nbsp;&nbsp;&nbsp; g) Frozen Set <br>\n",
    "4) Exercises <br>\n",
    " &nbsp;&nbsp;&nbsp;&nbsp; a) Build a Shopping Cart <br>\n",
    " &nbsp;&nbsp;&nbsp;&nbsp; b) Create Your Own Module <br>"
   ]
  },
  {
   "cell_type": "markdown",
   "metadata": {},
   "source": [
    "## Dictionary <br>\n",
    "<p>A collection of data with 'key:value' pairs. Dictionaries are ordered as of Python 3.6</p>"
   ]
  },
  {
   "cell_type": "markdown",
   "metadata": {},
   "source": [
    "##### Declaring (key, value)"
   ]
  },
  {
   "cell_type": "code",
   "execution_count": 5,
   "metadata": {},
   "outputs": [
    {
     "name": "stdout",
     "output_type": "stream",
     "text": [
      "{}\n"
     ]
    }
   ],
   "source": [
    "# keys should be unique\n",
    "# can use numbers or strings as keys\n",
    "\n",
    "d_1 = {}\n",
    "\n",
    "# or\n",
    "\n",
    "d_2 = dict()\n",
    "\n",
    "# d_2[\"some\"] = \"value\"\n",
    "\n",
    "print(d_2)\n",
    "\n",
    "\n",
    "d_3 = {\n",
    "    \"Tom\" : \"255 Main Street\",\n",
    "    \"Jerry\" : \"256 Main Street\", \n",
    "    0 : \"This is a 0\"\n",
    "}\n",
    "\n"
   ]
  },
  {
   "cell_type": "code",
   "execution_count": 10,
   "metadata": {},
   "outputs": [],
   "source": [
    "dna_dict = { 'A': 'T', \n",
    "            'C': 'G', \n",
    "            'T' : 'A', \n",
    "            'G' : 'C'}"
   ]
  },
  {
   "cell_type": "code",
   "execution_count": 12,
   "metadata": {},
   "outputs": [
    {
     "data": {
      "text/plain": [
       "'G'"
      ]
     },
     "execution_count": 12,
     "metadata": {},
     "output_type": "execute_result"
    }
   ],
   "source": [
    "dna_dict['C']"
   ]
  },
  {
   "cell_type": "markdown",
   "metadata": {},
   "source": [
    "##### Accessing Values"
   ]
  },
  {
   "cell_type": "code",
   "execution_count": 8,
   "metadata": {},
   "outputs": [
    {
     "name": "stdout",
     "output_type": "stream",
     "text": [
      "255 Main Street\n",
      "256 Main Street\n",
      "This is a 0\n"
     ]
    }
   ],
   "source": [
    "# dict[key] This looks very similar to indexing in a list but  not quite the same \n",
    "\n",
    "print(d_3[\"Tom\"])\n",
    "print(d_3['Jerry'])\n",
    "print(d_3[0]) #this is accessing the KEY of 0 not the index location of 0 \n"
   ]
  },
  {
   "cell_type": "code",
   "execution_count": 9,
   "metadata": {},
   "outputs": [
    {
     "name": "stdout",
     "output_type": "stream",
     "text": [
      "255 Main Street\n"
     ]
    }
   ],
   "source": [
    "#dict.get(key, value)\n",
    "\n",
    "print(d_3.get('Tom'))"
   ]
  },
  {
   "cell_type": "markdown",
   "metadata": {},
   "source": [
    "## In-Class Exercise #1 - Print a formatted statement from the dictionary below <br>\n",
    "<p>The output should be '2018 Chevrolet Silverado'</p>"
   ]
  },
  {
   "cell_type": "code",
   "execution_count": 14,
   "metadata": {},
   "outputs": [
    {
     "name": "stdout",
     "output_type": "stream",
     "text": [
      "2018 Chevrolet Silverado\n",
      "2018 Chevrolet Silverado\n"
     ]
    }
   ],
   "source": [
    "# use the dict below\n",
    "truck = {\n",
    "    \"year\": 2018,\n",
    "    'make': 'Chevrolet',\n",
    "    'model': 'Silverado'\n",
    "}\n",
    "\n",
    "print(truck[\"year\"] , truck['make'] , truck['model'])\n",
    "print(f\"{truck['year']} {truck['make']} {truck['model']}\")\n"
   ]
  },
  {
   "cell_type": "markdown",
   "metadata": {},
   "source": [
    "##### Adding New Pairs"
   ]
  },
  {
   "cell_type": "code",
   "execution_count": 15,
   "metadata": {},
   "outputs": [
    {
     "name": "stdout",
     "output_type": "stream",
     "text": [
      "{'Tom': '255 Main Street', 'Jerry': '256 Main Street', 0: 'This is a 0', 'Alex': '123 Really Cool Street'}\n"
     ]
    }
   ],
   "source": [
    "# dict[key] = value\n",
    "\n",
    "d_3 = {\n",
    "    \"Tom\" : \"255 Main Street\",\n",
    "    \"Jerry\" : \"256 Main Street\", \n",
    "    0 : \"This is a 0\"\n",
    "}\n",
    "\n",
    "d_3['Alex'] = '123 Really Cool Street'\n",
    "\n",
    "\n",
    "print(d_3)"
   ]
  },
  {
   "cell_type": "markdown",
   "metadata": {},
   "source": [
    "##### Modifying Values"
   ]
  },
  {
   "cell_type": "code",
   "execution_count": 17,
   "metadata": {},
   "outputs": [
    {
     "name": "stdout",
     "output_type": "stream",
     "text": [
      "{'Tom': '255 Main Street', 'Jerry': '256 Main Street', 0: 'This is a 0', 'Alex': '124 Really Cool Street, New Orleans, LA'}\n"
     ]
    }
   ],
   "source": [
    "# dict[key] = value\n",
    "\n",
    "d_3['Alex'] = '124 Really Cool Street'\n",
    "\n",
    "d_3['Alex'] += ', New Orleans, LA'\n",
    "\n",
    "print(d_3)\n",
    "\n",
    "\n"
   ]
  },
  {
   "cell_type": "markdown",
   "metadata": {},
   "source": [
    "##### Removing Key, Value Pairs"
   ]
  },
  {
   "cell_type": "code",
   "execution_count": 18,
   "metadata": {},
   "outputs": [
    {
     "name": "stdout",
     "output_type": "stream",
     "text": [
      "{'Tom': '255 Main Street', 'Jerry': '256 Main Street', 0: 'This is a 0'}\n"
     ]
    }
   ],
   "source": [
    "# del dict[key]\n",
    "# del my_list[0] difference between list del and dict del is:\n",
    "# the list del(wraps the list in parentheses)\n",
    "\n",
    "\n",
    "del d_3['Alex']\n",
    "\n",
    "print(d_3)\n",
    "\n"
   ]
  },
  {
   "cell_type": "markdown",
   "metadata": {},
   "source": [
    "##### Looping a Dictionary"
   ]
  },
  {
   "cell_type": "code",
   "execution_count": 21,
   "metadata": {},
   "outputs": [
    {
     "name": "stdout",
     "output_type": "stream",
     "text": [
      "Tom lives at 255 Main Street\n",
      "Jerry lives at 256 Main Street\n",
      "0 lives at This is a 0\n"
     ]
    }
   ],
   "source": [
    "# .items()\n",
    "# a, b, c = 1, 2, 3\n",
    "\n",
    "d_3 = {\n",
    "    \"Tom\" : \"255 Main Street\",\n",
    "    \"Jerry\" : \"256 Main Street\", \n",
    "    0 : \"This is a 0\"\n",
    "}\n",
    "\n",
    "for name, address in d_3.items(): #definitely memorize .items()\n",
    "    print(f\"{name} lives at {address}\")\n",
    "\n"
   ]
  },
  {
   "cell_type": "markdown",
   "metadata": {},
   "source": [
    "##### Looping Only Keys"
   ]
  },
  {
   "cell_type": "code",
   "execution_count": 23,
   "metadata": {},
   "outputs": [
    {
     "name": "stdout",
     "output_type": "stream",
     "text": [
      "Tom\n",
      "Jerry\n",
      "0\n",
      "\n",
      "\n",
      "Tom\n",
      "Jerry\n",
      "0\n"
     ]
    }
   ],
   "source": [
    "# .keys()\n",
    "\n",
    "for key in d_3:\n",
    "    print(key)\n",
    "    \n",
    "print(\"\\n\")\n",
    "\n",
    "for key in d_3.keys():\n",
    "    print(key)\n"
   ]
  },
  {
   "cell_type": "markdown",
   "metadata": {},
   "source": [
    "##### Looping Only Values"
   ]
  },
  {
   "cell_type": "code",
   "execution_count": 24,
   "metadata": {
    "scrolled": true
   },
   "outputs": [
    {
     "name": "stdout",
     "output_type": "stream",
     "text": [
      "255 Main Street\n",
      "256 Main Street\n",
      "This is a 0\n"
     ]
    }
   ],
   "source": [
    "# .values()\n",
    "\n",
    "for value in d_3.values():\n",
    "    print(value)\n",
    "\n"
   ]
  },
  {
   "cell_type": "code",
   "execution_count": 41,
   "metadata": {},
   "outputs": [
    {
     "name": "stdout",
     "output_type": "stream",
     "text": [
      "Tom lives here 255 Main Street\n",
      "Jerry used to live here 256 Main Street\n",
      "Jerry now lives here 258 Main Street\n"
     ]
    }
   ],
   "source": [
    "d_3 = {\n",
    "    \"Tom\" : \"255 Main Street\",\n",
    "    \"Jerry\" : \"256 Main Street\", \n",
    "    0 : \"This is a 0\"\n",
    "}\n",
    "\n",
    "for name, address in d_3.items():\n",
    "    if address == '255 Main Street':\n",
    "        print(f\"{name} lives here {address}\")\n",
    "    elif address == '256 Main Street':\n",
    "        print(f\"{name} used to live here {address}\")\n",
    "        d_3[name] = '258 Main Street'\n",
    "        print(f\"{name} now lives here {d_3[name]}\")\n",
    "        \n"
   ]
  },
  {
   "cell_type": "markdown",
   "metadata": {},
   "source": [
    "## In-Class Exercise #2 - Create a Function that Prints All Key Value Pairs within a formatted string  <br>\n",
    "<p><b>Output should be:</b><br>\n",
    "Max has blue eyes<br>\n",
    "Lilly has brown eyes<br>\n",
    "Barney has blue eyes<br>\n",
    "etc.\n",
    "</p>"
   ]
  },
  {
   "cell_type": "code",
   "execution_count": 46,
   "metadata": {},
   "outputs": [
    {
     "name": "stdout",
     "output_type": "stream",
     "text": [
      "Max has blue eyes\n",
      "Lilly has brown eyes\n",
      "barney has green eyes\n",
      "Ted has purple eyes\n",
      "Sasuke has sharingan eyes\n"
     ]
    }
   ],
   "source": [
    "# use the dict below\n",
    "people = {\n",
    "    'Max' : 'blue',\n",
    "    'Lilly' : 'brown',\n",
    "    'barney' : 'green',\n",
    "    'Ted' : 'purple',\n",
    "    'Sasuke' : 'sharingan'    \n",
    "} \n",
    "\n",
    "\n",
    "for key, value in people.items():\n",
    "    print(f\"{key} has {value} eyes\")"
   ]
  },
  {
   "cell_type": "code",
   "execution_count": 43,
   "metadata": {},
   "outputs": [
    {
     "name": "stdout",
     "output_type": "stream",
     "text": [
      "Max has blue eyes \n",
      "Lilly has brown eyes \n",
      "Barney has green eyes \n",
      "Ted has purple eyes \n",
      "Sasuke has sharingan eyes \n",
      "\n"
     ]
    }
   ],
   "source": [
    "def peeps():\n",
    "    string=''\n",
    "\n",
    "    for k,v in people.items():\n",
    "        string+=f\"{k} has {v} eyes \\n\"\n",
    "        \n",
    "    return  string\n",
    "\n",
    "print(peeps())"
   ]
  },
  {
   "cell_type": "code",
   "execution_count": 44,
   "metadata": {},
   "outputs": [
    {
     "name": "stdout",
     "output_type": "stream",
     "text": [
      "[('Max', 'blue'), ('Lilly', 'brown'), ('Barney', 'green'), ('Ted', 'purple'), ('Sasuke', 'sharingan')]\n"
     ]
    }
   ],
   "source": [
    "print(list(people.items()))"
   ]
  },
  {
   "cell_type": "markdown",
   "metadata": {},
   "source": [
    "##### sorted()"
   ]
  },
  {
   "cell_type": "code",
   "execution_count": 52,
   "metadata": {},
   "outputs": [
    {
     "name": "stdout",
     "output_type": "stream",
     "text": [
      "[('Lilly', 'brown'), ('Max', 'blue'), ('Sasuke', 'sharingan'), ('Ted', 'purple'), ('barney', 'green')]\n",
      "['Lilly', 'Max', 'Sasuke', 'Ted', 'barney']\n",
      "['blue', 'brown', 'green', 'purple', 'sharingan']\n",
      "['Max', 'Ted', 'Lilly', 'barney', 'Sasuke']\n"
     ]
    }
   ],
   "source": [
    "# sorts variables in order\n",
    "# sorted(dict.values()) or dict.keys() or dict.items()\n",
    "\n",
    "print(sorted(people.items()))\n",
    "\n",
    "print(sorted(people.keys()))\n",
    "print(sorted(people.values()))\n",
    "\n",
    "print(sorted(people.keys(), key=len))"
   ]
  },
  {
   "cell_type": "code",
   "execution_count": 53,
   "metadata": {},
   "outputs": [
    {
     "name": "stdout",
     "output_type": "stream",
     "text": [
      "{'Lilly': 'brown', 'Max': 'blue', 'Sasuke': 'sharingan', 'Ted': 'purple', 'barney': 'green'}\n"
     ]
    }
   ],
   "source": [
    "print(dict(sorted(people.items())))"
   ]
  },
  {
   "cell_type": "markdown",
   "metadata": {},
   "source": [
    "##### List with Dictionaries"
   ]
  },
  {
   "cell_type": "code",
   "execution_count": 56,
   "metadata": {},
   "outputs": [
    {
     "name": "stdout",
     "output_type": "stream",
     "text": [
      "['Shikamaru', 'Gaara', 'OctoPops', {'leaf_village': 'Naruto', 'leaf_village2': 'Kakashi'}]\n",
      "Naruto\n"
     ]
    }
   ],
   "source": [
    "\n",
    "shinobi = ['Shikamaru', 'Gaara', 'OctoPops', {\"leaf_village\": \"Naruto\", \"leaf_village2\" : \"Kakashi\"}]\n",
    "\n",
    "print(shinobi)\n",
    "\n",
    "print(shinobi[-1]['leaf_village'])"
   ]
  },
  {
   "cell_type": "markdown",
   "metadata": {},
   "source": [
    "##### Dictionaries with Lists"
   ]
  },
  {
   "cell_type": "code",
   "execution_count": 65,
   "metadata": {},
   "outputs": [
    {
     "name": "stdout",
     "output_type": "stream",
     "text": [
      "Jason\n",
      "[1, 2, 3]\n",
      "[1, 2, 3]\n"
     ]
    }
   ],
   "source": [
    "# be careful when using numbers as keys in dictionaries, don't confuse them with indexes\n",
    "\n",
    "random_data = {\n",
    "    \"names\" : ['Jason', 'Devante', random_data['numbers'], 'Matthew'],\n",
    "    \"numbers\" : [ 1, 2, 3]\n",
    "    \n",
    "}\n",
    "\n",
    "\n",
    "\n",
    "print(random_data['names'][0])\n",
    "\n",
    "print(random_data['names'][-2]) #same thing as\n",
    "\n",
    "print(random_data['numbers'])\n"
   ]
  },
  {
   "cell_type": "markdown",
   "metadata": {},
   "source": [
    "##### Dictionaries with Dictionaries"
   ]
  },
  {
   "cell_type": "code",
   "execution_count": 79,
   "metadata": {
    "scrolled": true
   },
   "outputs": [
    {
     "name": "stdout",
     "output_type": "stream",
     "text": [
      "Ramen\n",
      "baklava\n",
      "I'm really feeling some Giordanos rn; the pain of saving money is too real\n",
      "7-up cake\n",
      "Jeremy: ice cream\n"
     ]
    }
   ],
   "source": [
    "# to get values, must traverse through keys\n",
    "\n",
    "food_dict = {\n",
    "    'Alex' : {\n",
    "        'dessert' : ['fruit tarts', 'cupcakes', 'ice cream'],\n",
    "        'more desserts' : ['cake', 'ice cream cake', 'pastry']\n",
    "    },\n",
    "    'Leza' : {\n",
    "        'cuisine' : ['Indian', 'Greek', 'Italian'],\n",
    "        'desserts' : ['tiramisu', 'baklava', 'cookies']\n",
    "    },\n",
    "    'Matt' : {\n",
    "        'pizza': ['thin crust','Giordanos', 'Dominoes'],\n",
    "        'tacos': ['actual mexican food','Taco Bell','Chipotle'],\n",
    "    },\n",
    "     'Jeremy':{\n",
    "        'dinner': ['pizza', 'hotdogs'],\n",
    "        'desserts': ['ice cream', 'cobbler']\n",
    "    },\n",
    "     \"Kenai\" : {\n",
    "        \"southern\" : [\"jambalaya\", \"gumbo\"],\n",
    "        \"desserts\" : [\"peach cobbler\", \"red velvet cake\", \"7-up cake\"]\n",
    "     },\n",
    "    \"Priscilla\" :{\n",
    "        'brunch' : ['eggs' , 'bacon' , 'toast', 'mimosa' , 'homefries', 'pancakes', 'chicken' ],\n",
    "        \"more brunch\" : [ 'sausage' , 'waffles' , 'orange' ]\n",
    "    },\n",
    "    \"Jason\" : {\n",
    "        \"Meals\" : [\"Crab Legs\", \"Cheesesteak\", \"Pizza\"],\n",
    "        \"Snacks\" : [\"Acai Bowl\" \"Granola\", \"Almond\"]\n",
    "    },\n",
    "    'Nico':{\n",
    "        'dessert' : ['lava cake', 'fried oreos', 'rice pudding'],\n",
    "        'dinner' : ['crab legs', 'ramen', 'sushi']\n",
    "    },\n",
    "    'Luis' : {\n",
    "        'veggies' : ['tomato', 'onion', 'pepper', 'asparagus'],\n",
    "        'breakfast' : [ 'eggs', 'waffles']\n",
    "    } \n",
    "}\n",
    "\n",
    "print(food_dict['Nico']['dinner'][1].title())\n",
    "print(food_dict['Leza']['desserts'][1])\n",
    "print(f\"I'm really feeling some {food_dict['Matt']['pizza'][1]} rn; the pain of saving money is too real\")\n",
    "print(food_dict[\"Kenai\"][\"desserts\"][-1])\n",
    "print(f\"Jeremy: {food_dict['Jeremy']['desserts'][0]}\")"
   ]
  },
  {
   "cell_type": "code",
   "execution_count": 83,
   "metadata": {},
   "outputs": [
    {
     "name": "stdout",
     "output_type": "stream",
     "text": [
      "These are all of Priscilla's fav foods\n",
      "brunch\n",
      "\teggs\n",
      "\tbacon\n",
      "\ttoast\n",
      "\tmimosa\n",
      "\thomefries\n",
      "\tpancakes\n",
      "\tchicken\n",
      "more brunch\n",
      "\tsausage\n",
      "\twaffles\n",
      "\torange\n"
     ]
    }
   ],
   "source": [
    "#Print out all of Priscilla's Dictionary\n",
    "\n",
    "print(\"These are all of Priscilla's fav foods\")\n",
    "\n",
    "for cuisine, foods in food_dict['Priscilla'].items():\n",
    "    print(cuisine)\n",
    "    for food in foods:\n",
    "        print(f\"\\t{food}\")   #\\t tab, \\n new line "
   ]
  },
  {
   "cell_type": "code",
   "execution_count": 88,
   "metadata": {},
   "outputs": [
    {
     "name": "stdout",
     "output_type": "stream",
     "text": [
      "Here are ALL our favorite foods: \n",
      "\n",
      "Alex fav foods are: \n",
      "\tdessert\n",
      "\t\tfruit tarts\n",
      "\t\tcupcakes\n",
      "\t\tice cream\n",
      "\tmore desserts\n",
      "\t\tcake\n",
      "\t\tice cream cake\n",
      "\t\tpastry\n",
      "\n",
      "\n",
      "Leza fav foods are: \n",
      "\tcuisine\n",
      "\t\tIndian\n",
      "\t\tGreek\n",
      "\t\tItalian\n",
      "\tdesserts\n",
      "\t\ttiramisu\n",
      "\t\tbaklava\n",
      "\t\tcookies\n",
      "\n",
      "\n",
      "Matt fav foods are: \n",
      "\tpizza\n",
      "\t\tthin crust\n",
      "\t\tGiordanos\n",
      "\t\tDominoes\n",
      "\ttacos\n",
      "\t\tactual mexican food\n",
      "\t\tTaco Bell\n",
      "\t\tChipotle\n",
      "\n",
      "\n",
      "Jeremy fav foods are: \n",
      "\tdinner\n",
      "\t\tpizza\n",
      "\t\thotdogs\n",
      "\tdesserts\n",
      "\t\tice cream\n",
      "\t\tcobbler\n",
      "\n",
      "\n",
      "Kenai fav foods are: \n",
      "\tsouthern\n",
      "\t\tjambalaya\n",
      "\t\tgumbo\n",
      "\tdesserts\n",
      "\t\tpeach cobbler\n",
      "\t\tred velvet cake\n",
      "\t\t7-up cake\n",
      "\n",
      "\n",
      "Priscilla fav foods are: \n",
      "\tbrunch\n",
      "\t\teggs\n",
      "\t\tbacon\n",
      "\t\ttoast\n",
      "\t\tmimosa\n",
      "\t\thomefries\n",
      "\t\tpancakes\n",
      "\t\tchicken\n",
      "\tmore brunch\n",
      "\t\tsausage\n",
      "\t\twaffles\n",
      "\t\torange\n",
      "\n",
      "\n",
      "Jason fav foods are: \n",
      "\tMeals\n",
      "\t\tCrab Legs\n",
      "\t\tCheesesteak\n",
      "\t\tPizza\n",
      "\tSnacks\n",
      "\t\tAcai BowlGranola\n",
      "\t\tAlmond\n",
      "\n",
      "\n",
      "Nico fav foods are: \n",
      "\tdessert\n",
      "\t\tlava cake\n",
      "\t\tfried oreos\n",
      "\t\trice pudding\n",
      "\tdinner\n",
      "\t\tcrab legs\n",
      "\t\tramen\n",
      "\t\tsushi\n",
      "\n",
      "\n",
      "Luis fav foods are: \n",
      "\tveggies\n",
      "\t\ttomato\n",
      "\t\tonion\n",
      "\t\tpepper\n",
      "\t\tasparagus\n",
      "\tbreakfast\n",
      "\t\teggs\n",
      "\t\twaffles\n",
      "\n",
      "\n"
     ]
    }
   ],
   "source": [
    "print(\"Here are ALL our favorite foods: \\n\")\n",
    "\n",
    "for name in food_dict.keys():\n",
    "    print(f\"{name} fav foods are: \")\n",
    "    \n",
    "    for cuisine, foods in food_dict[name].items():\n",
    "        print(f\"\\t{cuisine}\")\n",
    "        for food in foods:\n",
    "            print(f\"\\t\\t{food}\") \n",
    "    print('\\n')"
   ]
  },
  {
   "cell_type": "markdown",
   "metadata": {},
   "source": [
    "## Dictionaries vs. Lists (over time) Example of RUNTIME\n",
    "### When inputting values in a Dictionary vs List"
   ]
  },
  {
   "cell_type": "code",
   "execution_count": 102,
   "metadata": {},
   "outputs": [],
   "source": [
    "import time\n",
    "\n",
    "#generate dictionary\n",
    "d = {}\n",
    "\n",
    "for i in range(10000000):\n",
    "    d[i] = \"value \" + str(i)\n",
    "    \n",
    "# print(d)\n",
    "\n",
    "big_list = [x for x in range(10000000)]\n"
   ]
  },
  {
   "cell_type": "code",
   "execution_count": 107,
   "metadata": {},
   "outputs": [
    {
     "name": "stdout",
     "output_type": "stream",
     "text": [
      "value 9999999\n",
      "elapsed time for dictionary: 0.00030684471130371094\n",
      "9999999\n",
      "elapsed time for list: 0.7335867881774902\n",
      "9999999\n",
      "elapsed time for known position: 6.413459777832031e-05\n"
     ]
    }
   ],
   "source": [
    "#track the time for the dictionary\n",
    "\n",
    "\n",
    "start_time = time.time()\n",
    "# print(start_time)\n",
    "\n",
    "print(d[9999999])\n",
    "\n",
    "end_time = time.time() - start_time\n",
    "# print(end_time)\n",
    "\n",
    "print(f\"elapsed time for dictionary: {end_time}\")\n",
    "\n",
    "\n",
    "#track the time for the list\n",
    "start_time = time.time()\n",
    "\n",
    "for i in range(len(big_list)):\n",
    "    if i == 9999999:\n",
    "        print(i)\n",
    "        \n",
    "end_time = time.time() - start_time\n",
    "\n",
    "print(f\"elapsed time for list: {end_time}\")       \n",
    "\n",
    "\n",
    "#track time for known position in list\n",
    "start_time = time.time()\n",
    "\n",
    "print(big_list[-1])\n",
    "\n",
    "end_time = time.time() - start_time\n",
    "\n",
    "print(f\"elapsed time for known position: {end_time}\") "
   ]
  },
  {
   "cell_type": "markdown",
   "metadata": {},
   "source": [
    "## Exercise #3 - Write a Function that asks someone's name and address, and then stores that into a dictionary, and continues to do so until they choose to 'quit'. Once they quit, the program should print all names and addresses. <br>\n",
    "<p>\n",
    "<b>Proper steps:</b><br>\n",
    "step 1: write a function that takes in information and stores it in a dictionary<br>\n",
    "step 2: define an empty dictionary to work with<br>\n",
    "step 3: create our loop, which asks the user for information until they quit<br>\n",
    "step 4: ask for the information, and store it into variables<br>\n",
    "step 5: check if the user types quit<br>\n",
    "step 5a: print out all information<br>\n",
    "step 5b: break out of the loop<br>\n",
    "step 6: if they didn't quit, add the information to the dictionary<br>\n",
    "step 7: invoke the function by calling it\n",
    "</p>"
   ]
  },
  {
   "cell_type": "code",
   "execution_count": null,
   "metadata": {},
   "outputs": [],
   "source": [
    "from IPython.display import clear_output\n",
    "\n",
    "\n",
    "            \n",
    "        \n",
    "        "
   ]
  },
  {
   "cell_type": "markdown",
   "metadata": {},
   "source": [
    "## Set <br>\n",
    "<p>A Set is an unordered collection data type that is iterable (loop), mutable, and has no duplicate elements.<br>Major advantage is that it is highly optimized in checking if something is in the set, as opposed to checking if something is in a list.</p>"
   ]
  },
  {
   "cell_type": "markdown",
   "metadata": {},
   "source": [
    "##### Declaring"
   ]
  },
  {
   "cell_type": "code",
   "execution_count": null,
   "metadata": {
    "scrolled": false
   },
   "outputs": [],
   "source": [
    "# set() or {}\n",
    "# no order {3, 2, 1} outputs as {1, 2, 3}\n",
    "\n"
   ]
  },
  {
   "cell_type": "code",
   "execution_count": null,
   "metadata": {
    "scrolled": true
   },
   "outputs": [],
   "source": [
    "#remove all duplicates from the list\n"
   ]
  },
  {
   "cell_type": "markdown",
   "metadata": {},
   "source": [
    "##### .add()"
   ]
  },
  {
   "cell_type": "code",
   "execution_count": null,
   "metadata": {},
   "outputs": [],
   "source": [
    "# set.add()\n",
    "\n",
    "\n",
    "\n"
   ]
  },
  {
   "cell_type": "markdown",
   "metadata": {},
   "source": [
    "##### .remove()"
   ]
  },
  {
   "cell_type": "code",
   "execution_count": null,
   "metadata": {},
   "outputs": [],
   "source": [
    "# removes by value\n",
    "# set.remove()\n",
    "\n"
   ]
  },
  {
   "cell_type": "markdown",
   "metadata": {},
   "source": [
    "##### .union() "
   ]
  },
  {
   "cell_type": "code",
   "execution_count": null,
   "metadata": {},
   "outputs": [],
   "source": [
    "# Returns a union of two sets, can also use '|' or set.union(set)\n",
    "# joins all numbers, gets rid of duplicates\n",
    "\n",
    "\n"
   ]
  },
  {
   "cell_type": "markdown",
   "metadata": {},
   "source": [
    "##### .intersection()"
   ]
  },
  {
   "cell_type": "code",
   "execution_count": null,
   "metadata": {},
   "outputs": [],
   "source": [
    "# Returns an intersection of two sets, can also use '&'\n",
    "# only takes similar elements from both sets\n"
   ]
  },
  {
   "cell_type": "markdown",
   "metadata": {},
   "source": [
    "##### .difference()"
   ]
  },
  {
   "cell_type": "code",
   "execution_count": null,
   "metadata": {},
   "outputs": [],
   "source": [
    "# Returns a set containing all the elements of invoking set that are not in the second set, can also use '-'\n",
    "# only takes values from the first set that are not in the second set\n",
    "# order matters\n"
   ]
  },
  {
   "cell_type": "markdown",
   "metadata": {},
   "source": [
    "##### .clear()"
   ]
  },
  {
   "cell_type": "code",
   "execution_count": null,
   "metadata": {},
   "outputs": [],
   "source": [
    "# Empties the whole set\n",
    "# set.clear()\n"
   ]
  },
  {
   "cell_type": "markdown",
   "metadata": {},
   "source": [
    "##### Frozenset <br>\n",
    "<p>Frozen sets are immutable objects that only support methods and operators that produce a result without affecting the frozen set or sets to which they are applied.</p><br><b>Unique & Immutable</b>"
   ]
  },
  {
   "cell_type": "code",
   "execution_count": null,
   "metadata": {},
   "outputs": [],
   "source": [
    "# frozenset([])\n",
    "\n"
   ]
  },
  {
   "cell_type": "markdown",
   "metadata": {},
   "source": [
    "# Exercises"
   ]
  },
  {
   "cell_type": "markdown",
   "metadata": {},
   "source": [
    "### 1) Build a Shopping Cart <br>\n",
    "<p><b>You can use either lists or dictionaries. The program should have the following capabilities:</b><br><br>\n",
    "1) Takes in input <br>\n",
    "2) Stores user input into a dictionary or list <br>\n",
    "3) The User can add or delete items <br>\n",
    "4) The User can see current shopping list <br>\n",
    "5) The program Loops until user 'quits' <br>\n",
    "6) Upon quiting the program, print out all items in the user's list <br>\n",
    "</p>"
   ]
  },
  {
   "cell_type": "code",
   "execution_count": null,
   "metadata": {},
   "outputs": [],
   "source": [
    "from IPython.display import clear_output\n",
    "\n",
    "# Ask the user four bits of input: Do you want to : Show/Add/Delete or Quit?\n"
   ]
  },
  {
   "cell_type": "markdown",
   "metadata": {},
   "source": [
    "### 2) Set Practice"
   ]
  },
  {
   "cell_type": "markdown",
   "metadata": {},
   "source": [
    "<p><b>Remove all duplicates from the following list</b></p>"
   ]
  },
  {
   "cell_type": "code",
   "execution_count": null,
   "metadata": {},
   "outputs": [],
   "source": [
    "nums_list = [1, 1, 1, 2, 2, 3, 5, 6, 4, 12, 11, 12, 12, 14, 16, 16, 16, 1, 1, 1, 2, 2]"
   ]
  },
  {
   "cell_type": "markdown",
   "metadata": {},
   "source": [
    "<p><b>Out put the intersection of the following the following sets.</b></p>"
   ]
  },
  {
   "cell_type": "code",
   "execution_count": null,
   "metadata": {},
   "outputs": [],
   "source": [
    "set1 = {20, 24, 26, 27}\n",
    "set2 = {26, 35, 63, 27}"
   ]
  },
  {
   "cell_type": "markdown",
   "metadata": {},
   "source": [
    "<p><b>Output the difference between the following sets</b></p>"
   ]
  },
  {
   "cell_type": "code",
   "execution_count": null,
   "metadata": {},
   "outputs": [],
   "source": [
    "set3 = {100, 65, 89, 200}\n",
    "set4 = {65, 103, 54, 200}"
   ]
  }
 ],
 "metadata": {
  "kernelspec": {
   "display_name": "Python 3 (ipykernel)",
   "language": "python",
   "name": "python3"
  },
  "language_info": {
   "codemirror_mode": {
    "name": "ipython",
    "version": 3
   },
   "file_extension": ".py",
   "mimetype": "text/x-python",
   "name": "python",
   "nbconvert_exporter": "python",
   "pygments_lexer": "ipython3",
   "version": "3.10.9"
  }
 },
 "nbformat": 4,
 "nbformat_minor": 2
}
