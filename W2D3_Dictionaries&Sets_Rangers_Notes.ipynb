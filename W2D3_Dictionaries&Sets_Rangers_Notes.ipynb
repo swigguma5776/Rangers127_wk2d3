{
 "cells": [
  {
   "cell_type": "markdown",
   "metadata": {},
   "source": [
    "# Dictionaries & Sets"
   ]
  },
  {
   "cell_type": "markdown",
   "metadata": {},
   "source": [
    "## Tasks Today:\n",
    "\n",
    "1) Dictionary <br>\n",
    " &nbsp;&nbsp;&nbsp;&nbsp; a) Declaring (key, value) <br>\n",
    " &nbsp;&nbsp;&nbsp;&nbsp; b) Accessing Values <br>\n",
    " &nbsp;&nbsp;&nbsp;&nbsp; ------ Exercise #1 - Print the eye color of each person in a double nested dict <br>\n",
    " &nbsp;&nbsp;&nbsp;&nbsp; c) Adding New Pairs <br>\n",
    " &nbsp;&nbsp;&nbsp;&nbsp; d) Modifying Values <br>\n",
    " &nbsp;&nbsp;&nbsp;&nbsp; e) Removing Key, Value Pairs <br>\n",
    " &nbsp;&nbsp;&nbsp;&nbsp; f) Looping a Dictionary <br>\n",
    " &nbsp;&nbsp;&nbsp;&nbsp; g) Looping Only Keys <br>\n",
    " &nbsp;&nbsp;&nbsp;&nbsp; h) Looping Only Values <br>\n",
    " &nbsp;&nbsp;&nbsp;&nbsp; ------ Exercise #2 - Create a Function that Prints All Key Value Pairs within a print .format()  <br>\n",
    " &nbsp;&nbsp;&nbsp;&nbsp; i) sorted() <br>\n",
    " &nbsp;&nbsp;&nbsp;&nbsp; j) Lists with Dictionaries <br>\n",
    " &nbsp;&nbsp;&nbsp;&nbsp; k) Dictionaries with Lists <br>\n",
    " &nbsp;&nbsp;&nbsp;&nbsp; l) Dictionaries with Dictionaries <br>\n",
    " &nbsp;&nbsp;&nbsp;&nbsp; ------ Exercise #3 - Write a Function that asks someone's name and address, and then stores that into a dictionary, which prints all names and addresses after they're done putting information in...  <br>\n",
    "2) Dictionaries vs. Lists (over time)<br>\n",
    "3) Set <br>\n",
    " &nbsp;&nbsp;&nbsp;&nbsp; a) Declaring <br>\n",
    " &nbsp;&nbsp;&nbsp;&nbsp; b) .add() <br>\n",
    " &nbsp;&nbsp;&nbsp;&nbsp; c) .remove() <br>\n",
    " &nbsp;&nbsp;&nbsp;&nbsp; d) .union() <br>\n",
    " &nbsp;&nbsp;&nbsp;&nbsp; e) .intersection() <br>\n",
    " &nbsp;&nbsp;&nbsp;&nbsp; f) .difference() <br>\n",
    " &nbsp;&nbsp;&nbsp;&nbsp; g) Frozen Set <br>\n",
    "4) Modules <br>\n",
    " &nbsp;&nbsp;&nbsp;&nbsp; a) Importing Entire Modules <br>\n",
    " &nbsp;&nbsp;&nbsp;&nbsp; b) Importing Methods Only <br>\n",
    " &nbsp;&nbsp;&nbsp;&nbsp; c) Using the 'as' Keyword <br>\n",
    " &nbsp;&nbsp;&nbsp;&nbsp; d) Creating a Module <br>\n",
    "5) Exercises <br>\n",
    " &nbsp;&nbsp;&nbsp;&nbsp; a) Build a Shopping Cart <br>\n",
    " &nbsp;&nbsp;&nbsp;&nbsp; b) Create Your Own Module <br>"
   ]
  },
  {
   "cell_type": "markdown",
   "metadata": {},
   "source": [
    "## Dictionary <br>\n",
    "<p>A collection of data with 'key:value' pairs. Dictionaries are ordered as of Python 3.6</p>"
   ]
  },
  {
   "cell_type": "markdown",
   "metadata": {},
   "source": [
    "##### Declaring (key, value)"
   ]
  },
  {
   "cell_type": "code",
   "execution_count": null,
   "metadata": {},
   "outputs": [],
   "source": [
    "# keys should be unique\n",
    "# can use numbers or strings as keys\n",
    "\n",
    "d_1 = {}\n",
    "\n",
    "# or\n",
    "\n",
    "d_2 = dict()\n",
    "\n",
    "# d_2[\"some\"] = \"value\"\n",
    "\n",
    "# print(d_2)\n",
    "\n",
    "\n",
    "d_3 = {\n",
    "    \"Tom\": \"255 Main Street\",\n",
    "    \"Jerry\": \"256 Main Street\",\n",
    "    0: \"This is a 0\"\n",
    "}\n",
    "\n",
    "print(d_3)\n",
    "\n",
    "\n",
    "\n"
   ]
  },
  {
   "cell_type": "markdown",
   "metadata": {},
   "source": [
    "##### Accessing Values"
   ]
  },
  {
   "cell_type": "code",
   "execution_count": null,
   "metadata": {},
   "outputs": [],
   "source": [
    "# dict[key]\n",
    "d_3 = {\n",
    "    \"Tom\": \"255 Main Street\",\n",
    "    \"Jerry\": \"256 Main Street\",\n",
    "    0: \"This is a 0\"\n",
    "}\n",
    "\n",
    "print(d_3['Tom'])\n",
    "print(d_3['Jerry'])\n",
    "print(d_3[0])"
   ]
  },
  {
   "cell_type": "markdown",
   "metadata": {},
   "source": [
    "## In-Class Exercise #1 - Print a formatted statement from the dictionary below <br>\n",
    "<p>The output should be '2018 Chevrolet Silverado'</p>"
   ]
  },
  {
   "cell_type": "code",
   "execution_count": null,
   "metadata": {},
   "outputs": [],
   "source": [
    "# use the dict below\n",
    "truck = {\n",
    "    \"year\": 2018,\n",
    "    'make': 'Chevrolet',\n",
    "    'model': 'Silverado'\n",
    "}\n",
    "\n",
    "print(f'{truck[\"year\"]} {truck[\"make\"]} {truck[\"model\"]}')\n",
    "\n",
    "print(f\"{truck['year']}\")\n",
    "\n",
    "# my_string = 'Hello my dog\\'s name is Eyo'\n",
    "\n",
    "print(my_string)\n",
    "\n",
    "\n",
    "\n",
    "\n"
   ]
  },
  {
   "cell_type": "code",
   "execution_count": null,
   "metadata": {},
   "outputs": [],
   "source": [
    "print(f\"Your car is a {truck['year']} {truck['make']} {truck['model']}.\")\n"
   ]
  },
  {
   "cell_type": "code",
   "execution_count": null,
   "metadata": {},
   "outputs": [],
   "source": [
    "print(\"Frodo drives a {year} {make} {model}\".format(**truck) )\n"
   ]
  },
  {
   "cell_type": "markdown",
   "metadata": {},
   "source": [
    "##### Adding New Pairs"
   ]
  },
  {
   "cell_type": "code",
   "execution_count": null,
   "metadata": {},
   "outputs": [],
   "source": [
    "# dict[key] = value\n",
    "d_3 = {\n",
    "    \"Tom\": \"255 Main Street\",\n",
    "    \"Jerry\": \"256 Main Street\",\n",
    "    0: \"This is a 0\"\n",
    "}\n",
    "\n",
    "d_3['Spike'] = '257 Main Street'\n",
    "d_3['Tike'] = '257 Main Street'\n",
    "\n",
    "print(d_3)"
   ]
  },
  {
   "cell_type": "markdown",
   "metadata": {},
   "source": [
    "##### Modifying Values"
   ]
  },
  {
   "cell_type": "code",
   "execution_count": null,
   "metadata": {},
   "outputs": [],
   "source": [
    "# dict[key] = value\n",
    "d_3['Tike'] = '258 Main Street'\n",
    "d_3['Tom'] = '254 Main Street'\n",
    "d_3['Jerry'] = '254 Main Street'\n",
    "\n",
    "d_3['Tike'] = d_3['Tike'] + \" 60618\"\n",
    "#'258 Main Street' = '258 Main Street' + ' 60618'\n",
    "\n",
    "\n",
    "print(d_3)"
   ]
  },
  {
   "cell_type": "code",
   "execution_count": null,
   "metadata": {},
   "outputs": [],
   "source": [
    "my_list = [1, 1, 3, 4, 6, 7, 7, 10, 1, 4, 5]\n",
    "my_dict = {}\n",
    "for num in my_list:\n",
    "    if num not in my_dict:\n",
    "        my_dict[num] = 1\n",
    "        print(my_dict)\n",
    "    else:\n",
    "        my_dict[num] += 1\n",
    "        print(my_dict)\n",
    "\n",
    "    "
   ]
  },
  {
   "cell_type": "markdown",
   "metadata": {},
   "source": [
    "##### Removing Key, Value Pairs"
   ]
  },
  {
   "cell_type": "code",
   "execution_count": null,
   "metadata": {},
   "outputs": [],
   "source": [
    "# del dict[key]\n",
    "# del(my_list[0]) difference between list del and dict del is:\n",
    "# the list del(wraps the list in parentheses)\n",
    "\n",
    "print(d_3)\n",
    "\n",
    "del d_3[0] # <--- key not an index\n",
    "\n",
    "print(d_3)\n",
    "\n"
   ]
  },
  {
   "cell_type": "markdown",
   "metadata": {},
   "source": [
    "##### Looping a Dictionary"
   ]
  },
  {
   "cell_type": "code",
   "execution_count": null,
   "metadata": {},
   "outputs": [],
   "source": [
    "# .items()\n",
    "# a, b, c = 1, 2, 3\n",
    "for name, address in d_3.items():\n",
    "    print(f\" {name} lives at {address}\")\n"
   ]
  },
  {
   "cell_type": "markdown",
   "metadata": {},
   "source": [
    "##### Looping Only Keys"
   ]
  },
  {
   "cell_type": "code",
   "execution_count": 1,
   "metadata": {},
   "outputs": [
    {
     "ename": "NameError",
     "evalue": "name 'd_3' is not defined",
     "output_type": "error",
     "traceback": [
      "\u001b[1;31m---------------------------------------------------------------------------\u001b[0m",
      "\u001b[1;31mNameError\u001b[0m                                 Traceback (most recent call last)",
      "Input \u001b[1;32mIn [1]\u001b[0m, in \u001b[0;36m<cell line: 3>\u001b[1;34m()\u001b[0m\n\u001b[0;32m      1\u001b[0m \u001b[38;5;66;03m# .keys()\u001b[39;00m\n\u001b[1;32m----> 3\u001b[0m \u001b[38;5;28;01mfor\u001b[39;00m key \u001b[38;5;129;01min\u001b[39;00m \u001b[43md_3\u001b[49m:\n\u001b[0;32m      4\u001b[0m     \u001b[38;5;28mprint\u001b[39m(key)\n\u001b[0;32m      6\u001b[0m \u001b[38;5;28mprint\u001b[39m(\u001b[38;5;124m\"\u001b[39m\u001b[38;5;130;01m\\n\u001b[39;00m\u001b[38;5;124m\"\u001b[39m) \n",
      "\u001b[1;31mNameError\u001b[0m: name 'd_3' is not defined"
     ]
    }
   ],
   "source": [
    "# .keys()\n",
    "\n",
    "for key in d_3:\n",
    "    print(key)\n",
    "    \n",
    "print(\"\\n\") \n",
    "\n",
    "for name in d_3.keys():\n",
    "    print(name)\n",
    "\n",
    "# def my_func():\n",
    "#     print(\"Hello\")\n",
    "# my_func()"
   ]
  },
  {
   "cell_type": "markdown",
   "metadata": {},
   "source": [
    "##### Looping Only Values"
   ]
  },
  {
   "cell_type": "code",
   "execution_count": null,
   "metadata": {
    "scrolled": true
   },
   "outputs": [],
   "source": [
    "# .values()\n",
    "\n",
    "for address in d_3.values():\n",
    "    if address == \"254 Main Street\":\n",
    "        print(\"Tom Lives Here\")\n",
    "    elif address == \"257 Main Street\":\n",
    "        d_3[\"Spike\"] = d_3['Spike'] + ' 60618'\n",
    "        print(d_3['Spike'])\n",
    "    else: \n",
    "        print(address)\n"
   ]
  },
  {
   "cell_type": "markdown",
   "metadata": {},
   "source": [
    "## In-Class Exercise #2 - Create a Function that Prints All Key Value Pairs within a formatted string  <br>\n",
    "<p><b>Output should be:</b><br>\n",
    "Max has blue eyes<br>\n",
    "Lilly has brown eyes<br>\n",
    "Barney has blue eyes<br>\n",
    "etc.\n",
    "</p>"
   ]
  },
  {
   "cell_type": "code",
   "execution_count": null,
   "metadata": {},
   "outputs": [],
   "source": [
    "# use the dict below\n",
    "people = {\n",
    "    'Max' : 'blue',\n",
    "    'Lilly' : 'brown',\n",
    "    'Barney' : 'green',\n",
    "    'Ted' : 'purple',\n",
    "    'Sasuke' : 'sharingan'    \n",
    "} \n",
    "\n",
    "def print_info(info_dict):\n",
    "    for name, attribute in info_dict.items():\n",
    "        print(\"{} has {} eyes.\".format(name, attribute))\n",
    "\n",
    "info = {\n",
    "    \"Max\": \"blue\",\n",
    "    \"Lilly\": \"brown\",\n",
    "    \"Barney\": \"blue\",\n",
    "    \"Itachi\": \"Genjutsu\",\n",
    "    \"Sasuke\": \"Sharingon\",\n",
    "    \"Naruto\": \"Nine Tails\",\n",
    "    \"Jiraya\":\"closed\",\n",
    "    \"Pain\": \"Pain\",\n",
    "    \"Orochimaru\": \"Sasuke in his\",\n",
    "    \"Kabuto\":\"Orochimaru in his\",\n",
    "    \"Madara\": \"the world in his\",\n",
    "}\n",
    "\n",
    "print_info(info)\n"
   ]
  },
  {
   "cell_type": "code",
   "execution_count": null,
   "metadata": {},
   "outputs": [],
   "source": [
    "# people = {\n",
    "#      'Max':'blue',\n",
    "#      'Lilly':'brown',\n",
    "#      'Barney':'green',\n",
    "#      'Ted':'purple'\n",
    "#  }\n",
    "    \n",
    "for person, eye_color in people.items():\n",
    "    print(f\"{person} has {eye_color} colored eyes\")\n"
   ]
  },
  {
   "cell_type": "code",
   "execution_count": null,
   "metadata": {},
   "outputs": [],
   "source": [
    "for person, eye_color in people.items():\n",
    "    print(f\"{person} has {eye_color} eyes!\")\n"
   ]
  },
  {
   "cell_type": "code",
   "execution_count": null,
   "metadata": {},
   "outputs": [],
   "source": [
    "def eyes(d):\n",
    "    for k,v in d.items():\n",
    "        print(f\"{k} has {v} eyes\")\n",
    "    \n",
    "eyes(people)\n"
   ]
  },
  {
   "cell_type": "markdown",
   "metadata": {},
   "source": [
    "##### sorted()"
   ]
  },
  {
   "cell_type": "code",
   "execution_count": 2,
   "metadata": {},
   "outputs": [
    {
     "name": "stdout",
     "output_type": "stream",
     "text": [
      "[('Barney', 'green'), ('Lilly', 'brown'), ('Max', 'blue'), ('Sasuke', 'sharingan'), ('Ted', 'purple')]\n",
      "('Barney', 'green')\n",
      "green\n"
     ]
    }
   ],
   "source": [
    "# sorts variables in order\n",
    "# sorted(dict.values()) or dict.keys() or dict.items()\n",
    "people = {\n",
    "    'Max' : 'blue',\n",
    "    'Lilly' : 'brown',\n",
    "    'Barney' : 'green',\n",
    "    'Ted' : 'purple',\n",
    "    'Sasuke' : 'sharingan'    \n",
    "} \n",
    "# print(\"Values\", sorted(people.values()))\n",
    "# print(\"Keys\", sorted(people.keys()))\n",
    "# print(\"Key, Value Pairs\", sorted(people.items()))\n",
    "\n",
    "# print(sorted(people.items())[1][0])\n",
    "\n",
    "sorted_items = sorted(people.items())\n",
    "print(sorted_items)\n",
    "\n",
    "print(sorted_items[0])\n",
    "print(sorted_items[0][1])\n"
   ]
  },
  {
   "cell_type": "markdown",
   "metadata": {},
   "source": [
    "##### List with Dictionaries"
   ]
  },
  {
   "cell_type": "code",
   "execution_count": null,
   "metadata": {},
   "outputs": [],
   "source": [
    "shinobi = [\"Shikamaru\", \"Gaara\", \"OcotoPops\", {\"leaf_village\": \"Naruto\", \"leaf_village2\" : \"Kakashi\"}]\n",
    "\n",
    "print(shinobi[1])\n",
    "\n",
    "print(shinobi[3])\n",
    "\n",
    "#or\n",
    "\n",
    "#print(shinobi[-1])\n",
    "\n",
    "print(shinobi[3][\"leaf_village2\"])\n",
    "\n",
    "\n"
   ]
  },
  {
   "cell_type": "code",
   "execution_count": null,
   "metadata": {},
   "outputs": [],
   "source": [
    "names = [\"Dave\", \"Sandy\", \"Tony\", {\"random_person\" : \"Barb\", \"random_person2\" : \"Bart\"}, \"Ryan\"]\n",
    "\n",
    "print(names)\n",
    "\n",
    "print(names[2])\n",
    "\n",
    "print(names[-1])\n",
    "\n",
    "print(names[3])\n",
    "\n",
    "print(names[3]['random_person2'])\n",
    "\n",
    "print(names[3].keys())\n",
    "\n",
    "for person in names[3].keys():\n",
    "    print(person)\n",
    "    \n",
    "\n",
    "names[3].get('random_person')"
   ]
  },
  {
   "cell_type": "markdown",
   "metadata": {},
   "source": [
    "##### Dictionaries with Lists"
   ]
  },
  {
   "cell_type": "code",
   "execution_count": null,
   "metadata": {},
   "outputs": [],
   "source": [
    "# be careful when using numbers as keys in dictionaries, don't confuse them with indexes\n",
    "random_data = {\n",
    "    \"list_1\": [54, 65, 90],\n",
    "    \"names\": ['John', 'Laura', \"Bulbasaur\"]    \n",
    "}\n",
    "\n",
    "print(random_data[\"list_1\"][0])\n",
    "\n",
    "for name in random_data['names']:\n",
    "    print(name)\n"
   ]
  },
  {
   "cell_type": "markdown",
   "metadata": {},
   "source": [
    "##### Dictionaries with Dictionaries"
   ]
  },
  {
   "cell_type": "code",
   "execution_count": 4,
   "metadata": {
    "scrolled": true
   },
   "outputs": [
    {
     "name": "stdout",
     "output_type": "stream",
     "text": [
      "\n",
      "Here are all foods listed: \n",
      "\n"
     ]
    },
    {
     "ename": "NameError",
     "evalue": "name 'food_dict' is not defined",
     "output_type": "error",
     "traceback": [
      "\u001b[1;31m---------------------------------------------------------------------------\u001b[0m",
      "\u001b[1;31mNameError\u001b[0m                                 Traceback (most recent call last)",
      "Input \u001b[1;32mIn [4]\u001b[0m, in \u001b[0;36m<cell line: 5>\u001b[1;34m()\u001b[0m\n\u001b[0;32m      1\u001b[0m \u001b[38;5;66;03m# to get values, must traverse through keys\u001b[39;00m\n\u001b[0;32m      4\u001b[0m \u001b[38;5;28mprint\u001b[39m(\u001b[38;5;124m\"\u001b[39m\u001b[38;5;130;01m\\n\u001b[39;00m\u001b[38;5;124mHere are all foods listed: \u001b[39m\u001b[38;5;130;01m\\n\u001b[39;00m\u001b[38;5;124m\"\u001b[39m)\n\u001b[1;32m----> 5\u001b[0m \u001b[38;5;28;01mfor\u001b[39;00m name \u001b[38;5;129;01min\u001b[39;00m \u001b[43mfood_dict\u001b[49m\u001b[38;5;241m.\u001b[39mkeys():\n\u001b[0;32m      6\u001b[0m     \u001b[38;5;28mprint\u001b[39m(\u001b[38;5;124mf\u001b[39m\u001b[38;5;124m\"\u001b[39m\u001b[38;5;130;01m\\n\u001b[39;00m\u001b[38;5;132;01m{\u001b[39;00mname\u001b[38;5;132;01m}\u001b[39;00m\u001b[38;5;124m'\u001b[39m\u001b[38;5;124ms favorite foods are: \u001b[39m\u001b[38;5;124m\"\u001b[39m)\n\u001b[0;32m      7\u001b[0m     \u001b[38;5;28;01mfor\u001b[39;00m food_type \u001b[38;5;129;01min\u001b[39;00m food_dict[name]\u001b[38;5;241m.\u001b[39mkeys():\n",
      "\u001b[1;31mNameError\u001b[0m: name 'food_dict' is not defined"
     ]
    }
   ],
   "source": [
    "# to get values, must traverse through keys\n",
    "\n",
    "\n",
    "print(\"\\nHere are all foods listed: \\n\")\n",
    "for name in food_dict.keys():\n",
    "    print(f\"\\n{name}'s favorite foods are: \")\n",
    "    for food_type in food_dict[name].keys():\n",
    "        for food in food_dict[name][food_type]:\n",
    "            print(food)\n",
    "        \n",
    "food_dict = {\n",
    "    \"Ryan\": {\n",
    "        \"Mexican\": [\"Tacos\", \"Tortas\", \"Arroz\"],\n",
    "        \"Desserts\": [\"Cheesecake\", \"Cupcakes\", \"Pie\", \"Cookies\"]\n",
    "    },\n",
    "    \"James\": {\n",
    "        \"Main Course\": [\"Meatloaf\", \"Beef Stroganoff\", \"Chicken Stuffing Broccoli Casserole\"],\n",
    "        \"Desserts\": [\"Crumb Nutty Pie\", \"Moon Pie\", \"Pink Salad\"]\n",
    "    },\n",
    "    \"Nate\": {\n",
    "        \"favorite_dinner\": ['Hibachi', 'Mexican', 'Italian'],\n",
    "        \"favorite_dessert\": ['Pazooki', 'Red Velvet Cake', \"Pumpkin Pie\" ]\n",
    "    },\n",
    "    \"Tenzin\": {\n",
    "        \"Indian\": [\"Dumplings\",\"Naan\",\"Tandoori\"],\n",
    "        \"Mexican\": [\"Nachos\", \"Empanadas\",\"Burrito\"]\n",
    "    },\n",
    "    \"Dylan\" : {\n",
    "        \"Sushi\" : [\"Fatty Tuna\", \"Unagi\", \"Crab Roll\"],\n",
    "        \"Soup\" : [\"Miso\", \"Potato\", \"Wonton\"] \n",
    "    },\n",
    "    \"Jeong\": {\n",
    "        \"Japanese\": [\"Sushi\", \"Katsu\", \"Ramen\"],\n",
    "        \"Korean\": [\"KBBQ\", \"Stew\", \"Porridge\", \"K-Chicken\"],\n",
    "        \"Deserts\": [\"Bouncy Cheesecake\", \"Ice Cream\"]\n",
    "    },\n",
    "    \"John\": {\n",
    "        \"Japanese\": [\"Sushi\", \"Takoyaki\", \"Ramen\"],\n",
    "        \"American\": [\"Cheeseburger\", \"Crabcake\"],\n",
    "        \"Desserts\": [\"Pie\", \"Ice Cream\"]\n",
    "    },\n",
    "    \"Mike\": {        \n",
    "        \"Indian\": [\"Curry\", \"Tikka\", \"Chana\"],\n",
    "        \"Desserts\":[\"Applepie\", \"Pecanpie\", \"Carrotcake\"]       \n",
    "        \n",
    "    },\n",
    "    \"Sam\": {\n",
    "        \"Meals\": [\"Pizza\", \"Wendy's 4 for 4\", \"Pasta\", \"Hoagies\"],\n",
    "        \"Veggies\": [\"cucumbers\", \"avocados\", \"tomatoes\", \"carrots\"]\n",
    "    },\n",
    "    \n",
    "    'Kayla':{\n",
    "        'Asian': ['Ramen', 'Bulgogi', 'HotPot'],\n",
    "        'Desserts': ['Chocolate', 'WaterGateSalad', 'Icecream']\n",
    "    }\n",
    "    ,\n",
    "    \"Austin\": {\n",
    "         \"Mexican\":[\"Ceviche\",\"Shrimp Chimichanga\"],\n",
    "         \"Fast Food\": [\"Chipolte\", \"Chic-Fil-a\"],\n",
    "         \"Japanese\": [\"Nigri\", \"Sashimi(Eel)\"]\n",
    "    },\n",
    "    \"Mohammad\": {\n",
    "        \"Food\":[\"Pasta\", \"Fried Chicken\" , \"Tacos\"],\n",
    "        \"Desserts\":[\"Chocolate Cake\" ,\"Ice Cream\"]\n",
    "    },\n",
    "    \"Alex\": {\n",
    "        \"Hispanic\" : ['tacos', 'pupusas', 'tomales'],\n",
    "        'Desserts': ['cheesecake','ice cream', 'tarimasu'],\n",
    "        'Cajun': ['gumbo','poboy','jambalaya']\n",
    "    }\n",
    "        \n",
    "\n",
    "}\n",
    "\n",
    "print(food_dict)\n",
    "\n",
    "\n",
    "\n",
    "\n",
    "\n",
    "\n",
    "\n",
    "\n",
    "\n",
    "\n",
    "\n"
   ]
  },
  {
   "cell_type": "code",
   "execution_count": 3,
   "metadata": {},
   "outputs": [
    {
     "ename": "NameError",
     "evalue": "name 'food_dict' is not defined",
     "output_type": "error",
     "traceback": [
      "\u001b[1;31m---------------------------------------------------------------------------\u001b[0m",
      "\u001b[1;31mNameError\u001b[0m                                 Traceback (most recent call last)",
      "Input \u001b[1;32mIn [3]\u001b[0m, in \u001b[0;36m<cell line: 1>\u001b[1;34m()\u001b[0m\n\u001b[1;32m----> 1\u001b[0m \u001b[38;5;28;01mfor\u001b[39;00m genre \u001b[38;5;129;01min\u001b[39;00m \u001b[43mfood_dict\u001b[49m\u001b[38;5;241m.\u001b[39mkeys()\u001b[38;5;241m.\u001b[39mkeys():\n\u001b[0;32m      2\u001b[0m     \u001b[38;5;28mprint\u001b[39m(genre)\n",
      "\u001b[1;31mNameError\u001b[0m: name 'food_dict' is not defined"
     ]
    }
   ],
   "source": [
    "\n",
    "for genre in food_dict.keys().keys():\n",
    "    print(genre)"
   ]
  },
  {
   "cell_type": "code",
   "execution_count": null,
   "metadata": {},
   "outputs": [],
   "source": [
    "#Print Ryan's Desserts\n",
    "dessert_string = \"Ryan's favorite desserts are: \"\n",
    "for dessert in food_dict['Ryan']['Desserts']:\n",
    "    dessert_string += dessert + \", \"\n",
    "    \n",
    "print(dessert_string)\n",
    "    "
   ]
  },
  {
   "cell_type": "code",
   "execution_count": null,
   "metadata": {},
   "outputs": [],
   "source": [
    "#Everyone's favorite food genres\n",
    "for name in food_dict.keys():\n",
    "    for genre in food_dict[name].keys():\n",
    "        print(genre)\n",
    "    "
   ]
  },
  {
   "cell_type": "code",
   "execution_count": null,
   "metadata": {},
   "outputs": [],
   "source": [
    "#print everyones favorite foods\n",
    "print(\"\\nHere are all foods listed: \\n\")\n",
    "for name in food_dict.keys():\n",
    "    print(f\"\\n{name}'s favorite foods are: \")\n",
    "    for food_type in food_dict[name].keys():\n",
    "        for food in food_dict[name][food_type]:\n",
    "            print(food)"
   ]
  },
  {
   "cell_type": "markdown",
   "metadata": {},
   "source": [
    "## Dictionaries vs. Lists (over time) Example of RUNTIME\n",
    "### When inputting values in a Dictionary vs List"
   ]
  },
  {
   "cell_type": "code",
   "execution_count": 1,
   "metadata": {},
   "outputs": [],
   "source": [
    "import time\n",
    "\n",
    "#generate dictionary\n",
    "d = {}\n",
    "\n",
    "for i in range(10000000):\n",
    "    d[i] = \"value \" + str(i)\n",
    "    \n",
    "#generate list\n",
    "big_list = [x for x in range(10000000)]\n",
    "    \n",
    "\n",
    "    \n",
    "\n"
   ]
  },
  {
   "cell_type": "code",
   "execution_count": 2,
   "metadata": {},
   "outputs": [
    {
     "name": "stdout",
     "output_type": "stream",
     "text": [
      "value 9999999\n",
      "elapsed time for dictionary: 0.0006420612335205078\n",
      "9999999\n",
      "Elapsed time for list: 0.4956779479980469\n",
      "9999999\n",
      "Elapsed time for known position 5.412101745605469e-05\n"
     ]
    }
   ],
   "source": [
    "#track the time for the dictionary\n",
    "\n",
    "start_time = time.time()\n",
    "\n",
    "print(d[9999999])\n",
    "        \n",
    "end_time = time.time() - start_time\n",
    "\n",
    "print(f\"elapsed time for dictionary: {end_time}\")\n",
    "\n",
    "\n",
    "start_time = time.time()\n",
    "\n",
    "#Tracking time for the list\n",
    "for i in range(len(big_list)):\n",
    "    if i == 9999999:\n",
    "        print(i)\n",
    "        \n",
    "end_time = time.time() - start_time\n",
    "print(f\"Elapsed time for list: {end_time}\")\n",
    "\n",
    "\n",
    "#Tracking time for a known position in a list\n",
    "start_time = time.time()\n",
    "\n",
    "print(big_list[-1])\n",
    "end_time = time.time() - start_time\n",
    "print(f\"Elapsed time for known position {end_time}\")\n",
    "        \n",
    "\n",
    "        "
   ]
  },
  {
   "cell_type": "markdown",
   "metadata": {},
   "source": [
    "## Exercise #3 - Write a Function that asks someone's name and address, and then stores that into a dictionary, and continues to do so until they choose to 'quit'. Once they quit, the program should print all names and addresses. <br>\n",
    "<p>\n",
    "<b>Proper steps:</b><br>\n",
    "step 1: write a function that takes in information and stores it in a dictionary<br>\n",
    "step 2: define an empty dictionary to work with<br>\n",
    "step 3: create our loop, which asks the user for information until they quit<br>\n",
    "step 4: ask for the information, and store it into variables<br>\n",
    "step 5: check if the user types quit<br>\n",
    "step 5a: print out all information<br>\n",
    "step 5b: break out of the loop<br>\n",
    "step 6: if they didn't quit, add the information to the dictionary<br>\n",
    "step 7: invoke the function by calling it\n",
    "</p>"
   ]
  },
  {
   "cell_type": "code",
   "execution_count": 6,
   "metadata": {},
   "outputs": [
    {
     "name": "stdout",
     "output_type": "stream",
     "text": [
      "Enter a name or say 'quit' to quit: ryan\n",
      "Enter an address or say 'quit' to quit3302 w pensacola\n",
      "Enter a name or say 'quit' to quit: tom\n",
      "Enter an address or say 'quit' to quit254 main street\n",
      "Enter a name or say 'quit' to quit: jerry\n",
      "Enter an address or say 'quit' to quit254 main street\n",
      "Enter a name or say 'quit' to quit: quit\n",
      "The address for ryan is 3302 w pensacola.\n",
      "The address for tom is 254 main street.\n",
      "The address for jerry is 254 main street.\n"
     ]
    }
   ],
   "source": [
    "from IPython.display import clear_output\n",
    "\n",
    "# Step 1\n",
    "def storeInfo():\n",
    "    #step 2\n",
    "    d = {}\n",
    "    \n",
    "    #step 3\n",
    "    while True:\n",
    "        #step 4\n",
    "        name = input(\"Enter a name or say 'quit' to quit: \")\n",
    "        if name.lower() != 'quit':\n",
    "            address = input(\"Enter an address or say 'quit' to quit\")\n",
    "       \n",
    "        #step 5\n",
    "        if name.lower() == \"quit\" or address.lower() == \"quit\":\n",
    "            #step 5a\n",
    "            for key, value in d.items():\n",
    "                print(f\"The address for {key} is {value}.\")\n",
    "            break\n",
    "        \n",
    "        d[name] = address #step 6\n",
    "        \n",
    "            \n",
    "            \n",
    "#Step 7\n",
    "storeInfo()\n",
    "            \n",
    "            \n",
    "        \n",
    "        "
   ]
  },
  {
   "cell_type": "markdown",
   "metadata": {},
   "source": [
    "## Set <br>\n",
    "<p>A Set is an unordered collection data type that is iterable (loop), mutable, and has no duplicate elements.<br>Major advantage is that it is highly optimized in checking if something is in the set, as opposed to checking if something is in a list.</p>"
   ]
  },
  {
   "cell_type": "markdown",
   "metadata": {},
   "source": [
    "##### Declaring"
   ]
  },
  {
   "cell_type": "code",
   "execution_count": 12,
   "metadata": {
    "scrolled": false
   },
   "outputs": [
    {
     "name": "stdout",
     "output_type": "stream",
     "text": [
      "{8, 1, 4}\n",
      "{1, 4, 5, 6, 7, 8, 9}\n"
     ]
    }
   ],
   "source": [
    "# set() or {}\n",
    "# no order {3, 2, 1} outputs as {1, 2, 3}\n",
    "\n",
    "nums = {4, 1, 8, 4}\n",
    "\n",
    "print(nums)\n",
    "\n",
    "my_list = [1,1,1,1,1,4,5,6,6,6,6,6,6,6,7,7,8,9,9,9,9,9,9]\n",
    "\n",
    "my_set = set(my_list)\n",
    "print(my_set)"
   ]
  },
  {
   "cell_type": "code",
   "execution_count": 16,
   "metadata": {
    "scrolled": true
   },
   "outputs": [
    {
     "name": "stdout",
     "output_type": "stream",
     "text": [
      "{1, 4, 5, 6, 7, 8, 9}\n",
      "[1, 4, 5, 6, 7, 8, 9]\n",
      "7\n"
     ]
    },
    {
     "ename": "TypeError",
     "evalue": "'set' object is not subscriptable",
     "output_type": "error",
     "traceback": [
      "\u001b[1;31m---------------------------------------------------------------------------\u001b[0m",
      "\u001b[1;31mTypeError\u001b[0m                                 Traceback (most recent call last)",
      "Input \u001b[1;32mIn [16]\u001b[0m, in \u001b[0;36m<cell line: 9>\u001b[1;34m()\u001b[0m\n\u001b[0;32m      6\u001b[0m \u001b[38;5;28mprint\u001b[39m(my_list)\n\u001b[0;32m      8\u001b[0m \u001b[38;5;28mprint\u001b[39m(\u001b[38;5;28mlen\u001b[39m(my_set))\n\u001b[1;32m----> 9\u001b[0m \u001b[38;5;28mprint\u001b[39m(\u001b[43mmy_set\u001b[49m\u001b[43m[\u001b[49m\u001b[38;5;241;43m1\u001b[39;49m\u001b[43m]\u001b[49m)\n",
      "\u001b[1;31mTypeError\u001b[0m: 'set' object is not subscriptable"
     ]
    }
   ],
   "source": [
    "#remove all duplicates from the list\n",
    "my_list = [1,1,1,1,1,4,5,6,6,6,6,6,6,6,7,7,8,9,9,9,9,9,9]\n",
    "my_set = set(my_list)\n",
    "print(my_set)\n",
    "my_list = list(my_set)\n",
    "print(my_list)\n",
    "\n",
    "print(len(my_set))\n",
    "# print(my_set[1]) Cannot index because sets are unordered"
   ]
  },
  {
   "cell_type": "code",
   "execution_count": 17,
   "metadata": {},
   "outputs": [
    {
     "name": "stdout",
     "output_type": "stream",
     "text": [
      "['__and__', '__class__', '__class_getitem__', '__contains__', '__delattr__', '__dir__', '__doc__', '__eq__', '__format__', '__ge__', '__getattribute__', '__gt__', '__hash__', '__iand__', '__init__', '__init_subclass__', '__ior__', '__isub__', '__iter__', '__ixor__', '__le__', '__len__', '__lt__', '__ne__', '__new__', '__or__', '__rand__', '__reduce__', '__reduce_ex__', '__repr__', '__ror__', '__rsub__', '__rxor__', '__setattr__', '__sizeof__', '__str__', '__sub__', '__subclasshook__', '__xor__', 'add', 'clear', 'copy', 'difference', 'difference_update', 'discard', 'intersection', 'intersection_update', 'isdisjoint', 'issubset', 'issuperset', 'pop', 'remove', 'symmetric_difference', 'symmetric_difference_update', 'union', 'update']\n"
     ]
    }
   ],
   "source": [
    "print(dir(my_set))"
   ]
  },
  {
   "cell_type": "markdown",
   "metadata": {},
   "source": [
    "##### .add()"
   ]
  },
  {
   "cell_type": "code",
   "execution_count": 29,
   "metadata": {},
   "outputs": [
    {
     "name": "stdout",
     "output_type": "stream",
     "text": [
      "{2, 4, 5, 7, 9}\n",
      "{2, 4, 5, 22, 7, 9}\n",
      "{2, 4, 5, 22, 7, 9}\n",
      "{2, 2.4, 4, 5, 22, 7, 9}\n",
      "{2, 2.4, 4, 5, 22, 7, 'Hello', 9}\n",
      "{2, 2.4, 4, 5, 7, 9, 22, 'Hello', 'hello'}\n",
      "{2, 2.4, 4, 5, 7, 9, 22, 'Hello', 'hello'}\n"
     ]
    }
   ],
   "source": [
    "# set.add()\n",
    "\n",
    "my_set = {2, 5, 4, 7, 9}\n",
    "print(my_set)\n",
    "my_set.add(22)\n",
    "print(my_set)\n",
    "my_set.add(2)\n",
    "print(my_set)\n",
    "my_set.add(2.4)\n",
    "print(my_set)\n",
    "my_set.add('Hello')\n",
    "print(my_set)\n",
    "my_set.add('hello')\n",
    "print(my_set)\n",
    "my_set.add('hello')\n",
    "print(my_set)\n",
    "\n"
   ]
  },
  {
   "cell_type": "markdown",
   "metadata": {},
   "source": [
    "##### .remove()"
   ]
  },
  {
   "cell_type": "code",
   "execution_count": 23,
   "metadata": {},
   "outputs": [
    {
     "name": "stdout",
     "output_type": "stream",
     "text": [
      "{2, 4, 5, 7, 9}\n",
      "{2, 4, 5, 7, 9}\n",
      "{2, 4, 5, 7}\n"
     ]
    }
   ],
   "source": [
    "# removes by value\n",
    "# set.remove()\n",
    "# nums.remove(56)\n",
    "print(my_set)\n",
    "# my_set.remove(22)\n",
    "print(my_set)\n",
    "my_set.remove(9)\n",
    "print(my_set)\n"
   ]
  },
  {
   "cell_type": "markdown",
   "metadata": {},
   "source": [
    "##### .union() "
   ]
  },
  {
   "cell_type": "code",
   "execution_count": 32,
   "metadata": {},
   "outputs": [
    {
     "name": "stdout",
     "output_type": "stream",
     "text": [
      "{1, 2, 3, 4, 5, 6}\n",
      "{1, 2, 3, 4, 5, 6}\n"
     ]
    }
   ],
   "source": [
    "# Returns a union of two sets, can also use '|' or set.union(set)\n",
    "# joins all numbers, gets rid of duplicates\n",
    "s1 = {1,2,3,4}\n",
    "s2 = {3,4,5,6}\n",
    "\n",
    "s3 = s1.union(s2)\n",
    "\n",
    "print(s3)\n",
    "\n",
    "# or\n",
    "\n",
    "s4 = s2 | s1\n",
    "\n",
    "print(s4)\n",
    "\n"
   ]
  },
  {
   "cell_type": "markdown",
   "metadata": {},
   "source": [
    "##### .intersection()"
   ]
  },
  {
   "cell_type": "code",
   "execution_count": 34,
   "metadata": {},
   "outputs": [
    {
     "name": "stdout",
     "output_type": "stream",
     "text": [
      "{3, 4}\n",
      "{3, 4}\n"
     ]
    }
   ],
   "source": [
    "# Returns an intersection of two sets, can also use '&'\n",
    "# only takes similar elements from both sets\n",
    "s1 = {1,2,3,4}\n",
    "s2 = {3,4,5,6}\n",
    "\n",
    "s3 = s2.intersection(s1)\n",
    "\n",
    "print(s3)\n",
    "\n",
    "\n",
    "s4 = s1 & s2\n",
    "\n",
    "print(s4)"
   ]
  },
  {
   "cell_type": "markdown",
   "metadata": {},
   "source": [
    "##### .difference()"
   ]
  },
  {
   "cell_type": "code",
   "execution_count": 36,
   "metadata": {},
   "outputs": [
    {
     "name": "stdout",
     "output_type": "stream",
     "text": [
      "{1, 2}\n",
      "{5, 6}\n"
     ]
    }
   ],
   "source": [
    "# Returns a set containing all the elements of invoking set that are not in the second set, can also use '-'\n",
    "# only takes values from the first set that are not in the second set\n",
    "# order matters\n",
    "s1 = {1,2,3,4}\n",
    "s2 = {3,4,5,6}\n",
    "\n",
    "s7 = s1 - s2\n",
    "print(s7)\n",
    "\n",
    "#or \n",
    "\n",
    "s8 = s2.difference(s1)\n",
    "print(s8)"
   ]
  },
  {
   "cell_type": "markdown",
   "metadata": {},
   "source": [
    "##### .clear()"
   ]
  },
  {
   "cell_type": "code",
   "execution_count": 38,
   "metadata": {},
   "outputs": [
    {
     "name": "stdout",
     "output_type": "stream",
     "text": [
      "{5, 6}\n",
      "set()\n"
     ]
    }
   ],
   "source": [
    "# Empties the whole set\n",
    "# set.clear()\n",
    "print(s8)\n",
    "s8.clear()\n",
    "print(s8)\n"
   ]
  },
  {
   "cell_type": "markdown",
   "metadata": {},
   "source": [
    "##### Frozenset <br>\n",
    "<p>Frozen sets are immutable objects that only support methods and operators that produce a result without affecting the frozen set or sets to which they are applied.</p><br><b>Unique & Immutable</b>"
   ]
  },
  {
   "cell_type": "code",
   "execution_count": 48,
   "metadata": {},
   "outputs": [
    {
     "name": "stdout",
     "output_type": "stream",
     "text": [
      "{2, 3, 4, 5, 7, 'hello', 'my dog is neat'}\n",
      "frozenset({2, 3, 4, 5, 7, 'hello', 'my dog is neat'})\n",
      "{2, 3, 4, 5, 7, 'hello', 'my dog is neat'}\n",
      "{2, 3, 4, 5, 7, 'hello', 'my dog is neat', 'cool beans'}\n",
      "frozenset({2, 3, 4, 5, 7, 'cool beans', 'my dog is neat', 'hello'})\n"
     ]
    }
   ],
   "source": [
    "# frozenset([])\n",
    "my_set = {2, 3, 4, 'hello', 7, 'my dog is neat', 5}\n",
    "print(my_set)\n",
    "\n",
    "frozen_set = frozenset(my_set)\n",
    "\n",
    "print(frozen_set)\n",
    "\n",
    "# frozen_set.add(22)\n",
    "# frozen_set.remove('hello')\n",
    "\n",
    "my_new_set = set(frozen_set)\n",
    "\n",
    "print(my_new_set)\n",
    "my_new_set.add('cool beans')\n",
    "print(my_new_set)\n",
    "frozen_set = frozenset(my_new_set)\n",
    "print(frozen_set)\n",
    "\n"
   ]
  },
  {
   "cell_type": "markdown",
   "metadata": {},
   "source": [
    "# Exercises"
   ]
  },
  {
   "cell_type": "markdown",
   "metadata": {},
   "source": [
    "### 1) Build a Shopping Cart <br>\n",
    "<p><b>You can use either lists or dictionaries. The program should have the following capabilities:</b><br><br>\n",
    "1) Takes in input <br>\n",
    "2) Stores user input into a dictionary or list <br>\n",
    "3) The User can add or delete items <br>\n",
    "4) The User can see current shopping list <br>\n",
    "5) The program Loops until user 'quits' <br>\n",
    "6) Upon quiting the program, print out all items in the user's list <br>\n",
    "</p>"
   ]
  },
  {
   "cell_type": "code",
   "execution_count": null,
   "metadata": {},
   "outputs": [],
   "source": [
    "from IPython.display import clear_output\n",
    "\n",
    "# Ask the user four bits of input: Do you want to : Show/Add/Delete or Quit?\n"
   ]
  },
  {
   "cell_type": "markdown",
   "metadata": {},
   "source": [
    "### 2) Set Practice"
   ]
  },
  {
   "cell_type": "markdown",
   "metadata": {},
   "source": [
    "<p><b>Remove all duplicates from the following list</b></p>"
   ]
  },
  {
   "cell_type": "code",
   "execution_count": null,
   "metadata": {},
   "outputs": [],
   "source": [
    "nums_list = [1, 1, 1, 2, 2, 3, 5, 6, 4, 12, 11, 12, 12, 14, 16, 16, 16, 1, 1, 1, 2, 2]"
   ]
  },
  {
   "cell_type": "markdown",
   "metadata": {},
   "source": [
    "<p><b>Out put the intersection of the following the following sets.</b></p>"
   ]
  },
  {
   "cell_type": "code",
   "execution_count": null,
   "metadata": {},
   "outputs": [],
   "source": [
    "set1 = {20, 24, 26, 27}\n",
    "set2 = {26, 35, 63, 27}"
   ]
  },
  {
   "cell_type": "markdown",
   "metadata": {},
   "source": [
    "<p><b>Output the difference between the following sets</b></p>"
   ]
  },
  {
   "cell_type": "code",
   "execution_count": null,
   "metadata": {},
   "outputs": [],
   "source": [
    "set3 = {100, 65, 89, 200}\n",
    "set4 = {65, 103, 54, 200}"
   ]
  }
 ],
 "metadata": {
  "kernelspec": {
   "display_name": "Python 3 (ipykernel)",
   "language": "python",
   "name": "python3"
  },
  "language_info": {
   "codemirror_mode": {
    "name": "ipython",
    "version": 3
   },
   "file_extension": ".py",
   "mimetype": "text/x-python",
   "name": "python",
   "nbconvert_exporter": "python",
   "pygments_lexer": "ipython3",
   "version": "3.10.9"
  }
 },
 "nbformat": 4,
 "nbformat_minor": 2
}
